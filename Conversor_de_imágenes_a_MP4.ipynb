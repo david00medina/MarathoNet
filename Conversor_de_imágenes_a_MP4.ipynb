{
 "cells": [
  {
   "cell_type": "markdown",
   "metadata": {},
   "source": [
    "# Conversor de imágenes a vídeos _MP4_\n",
    "\n",
    "El objetivo de este cuaderno consistirá en convertir un fichero que contiene un conjunto de imágenes a un vídeo con formato _MP4_. Utilizaremos para ello la librería [OpenCV](https://opencv.org/).\n",
    "\n",
    "Para llevar a cabo esta tarea utilizaremos [OpenCV](https://opencv.org/), [Numpy](https://numpy.org/) y [Glob](https://docs.python.org/2/library/glob.html):"
   ]
  },
  {
   "cell_type": "code",
   "execution_count": 1,
   "metadata": {},
   "outputs": [],
   "source": [
    "import cv2 as cv\n",
    "import numpy as np\n",
    "import glob"
   ]
  },
  {
   "cell_type": "markdown",
   "metadata": {},
   "source": [
    "## Almacenando todos los ficheros de una ruta en una lista\n",
    "Almacenaremos todas las imágenes en crudo en una lista."
   ]
  },
  {
   "cell_type": "code",
   "execution_count": 2,
   "metadata": {},
   "outputs": [
    {
     "name": "stdout",
     "output_type": "stream",
     "text": [
      "['images/_DR_2342.jpg', 'images/_DR_2344.jpg', 'images/_DR_2352.jpg', 'images/_DR_2356.jpg', 'images/_DR_2361.jpg', 'images/_DR_2475.jpg', 'images/_DR_2478.jpg', 'images/_DR_2479.jpg', 'images/_DR_2485.jpg', 'images/_DR_2486.jpg', 'images/_DR_2487.jpg', 'images/_DR_2493.jpg', 'images/_DR_2495.jpg', 'images/_DR_2499.jpg', 'images/_DR_2501.jpg', 'images/_DR_2502.jpg', 'images/_DR_2512.jpg', 'images/_DR_2514.jpg', 'images/_DR_2517.jpg', 'images/_DR_2520.jpg', 'images/_DR_2521.jpg', 'images/_DR_2527.jpg', 'images/_DR_2535.jpg', 'images/_DR_2537.jpg', 'images/_DR_2542.jpg', 'images/_DR_2543.jpg', 'images/_DR_2544.jpg', 'images/_DR_2546.jpg', 'images/_DR_2550.jpg', 'images/_DR_2552.jpg', 'images/_DR_2553.jpg', 'images/_DR_2560.jpg', 'images/_DR_2561.jpg', 'images/_DR_2566.jpg', 'images/_DR_2567.jpg', 'images/_DR_2571.jpg', 'images/_DR_2573.jpg', 'images/_DR_2574.jpg', 'images/_DR_2576.jpg', 'images/_DR_2580.jpg', 'images/_DR_2581.jpg', 'images/_DR_2582.jpg', 'images/_DR_2585.jpg', 'images/_DR_2586.jpg', 'images/_DR_2587.jpg', 'images/_DR_2590.jpg', 'images/_DR_2597.jpg', 'images/_DR_2599.jpg', 'images/_DR_2600.jpg', 'images/_DR_2602.jpg', 'images/_DR_2604.jpg', 'images/_DR_2605.jpg', 'images/_DR_2606.jpg', 'images/_DR_2608.jpg', 'images/_DR_2610.jpg', 'images/_DR_2611.jpg', 'images/_DR_2614.jpg', 'images/_DR_2616.jpg', 'images/_DR_2617.jpg', 'images/_DR_2621.jpg', 'images/_DR_2623.jpg', 'images/_DR_2624.jpg', 'images/_DR_2625.jpg', 'images/_DR_2628.jpg', 'images/_DR_2630.jpg', 'images/_DR_2633.jpg', 'images/_DR_2634.jpg', 'images/_DR_2636.jpg', 'images/_DR_2638.jpg', 'images/_DR_2639.jpg', 'images/_DR_2640.jpg', 'images/_DR_2641.jpg', 'images/_DR_2643.jpg', 'images/_DR_2644.jpg', 'images/_DR_2646.jpg', 'images/_DR_2648.jpg', 'images/_DR_2651.jpg', 'images/_DR_2652.jpg', 'images/_DR_2654.jpg', 'images/_DR_2655.jpg', 'images/_DR_2658.jpg', 'images/_DR_2661.jpg', 'images/_DR_2675.jpg', 'images/_DR_2676.jpg', 'images/_DR_2687.jpg', 'images/_DR_2693.jpg', 'images/_DR_2703.jpg', 'images/_DR_2706.jpg', 'images/_DR_2718.jpg', 'images/_DR_2721.jpg', 'images/_DR_2723.jpg', 'images/_DR_2726.jpg', 'images/_DR_2732.jpg', 'images/_DR_2737.jpg', 'images/_DR_2741.jpg', 'images/_DR_2749.jpg', 'images/_DR_2752.jpg', 'images/_DR_2753.jpg', 'images/_DR_2754.jpg', 'images/_DR_2758.jpg', 'images/_DR_2759.jpg', 'images/_DR_2507.jpg', 'images/_DR_2562.jpg', 'images/_DR_2603.jpg', 'images/_DR_2635.jpg', 'images/_DR_2678.jpg', 'images/_DR_2766.jpg', 'images/_DR_2820.jpg', 'images/_DR_2871.jpg', 'images/_DR_2922.jpg', 'images/_DR_2975.jpg', 'images/_DR_3027.jpg', 'images/_DR_3210.jpg', 'images/_DR_3275.jpg', 'images/_DR_8453.jpg', 'images/_DR_8511.jpg', 'images/_DR_8576.jpg', 'images/_DR_8628.jpg', 'images/_DR_2770.jpg', 'images/_DR_2773.jpg', 'images/_DR_2776.jpg', 'images/_DR_2783.jpg', 'images/_DR_2788.jpg', 'images/_DR_2793.jpg', 'images/_DR_2795.jpg', 'images/_DR_2797.jpg', 'images/_DR_2799.jpg', 'images/_DR_2801.jpg', 'images/_DR_2803.jpg', 'images/_DR_2804.jpg', 'images/_DR_2805.jpg', 'images/_DR_2807.jpg', 'images/_DR_2810.jpg', 'images/_DR_2813.jpg', 'images/_DR_2817.jpg', 'images/_DR_2824.jpg', 'images/_DR_2825.jpg', 'images/_DR_2829.jpg', 'images/_DR_2830.jpg', 'images/_DR_2834.jpg', 'images/_DR_2836.jpg', 'images/_DR_2838.jpg', 'images/_DR_2840.jpg', 'images/_DR_2844.jpg', 'images/_DR_2847.jpg', 'images/_DR_2849.jpg', 'images/_DR_2858.jpg', 'images/_DR_2859.jpg', 'images/_DR_2861.jpg', 'images/_DR_2863.jpg', 'images/_DR_2864.jpg', 'images/_DR_2868.jpg', 'images/_DR_2873.jpg', 'images/_DR_2875.jpg', 'images/_DR_2878.jpg', 'images/_DR_2879.jpg', 'images/_DR_2881.jpg', 'images/_DR_2884.jpg', 'images/_DR_2885.jpg', 'images/_DR_2886.jpg', 'images/_DR_2892.jpg', 'images/_DR_2893.jpg', 'images/_DR_2895.jpg', 'images/_DR_2897.jpg', 'images/_DR_2899.jpg', 'images/_DR_2906.jpg', 'images/_DR_2908.jpg', 'images/_DR_2911.jpg', 'images/_DR_2913.jpg', 'images/_DR_2923.jpg', 'images/_DR_2928.jpg', 'images/_DR_2929.jpg', 'images/_DR_2932.jpg', 'images/_DR_2934.jpg', 'images/_DR_2935.jpg', 'images/_DR_2937.jpg', 'images/_DR_2939.jpg', 'images/_DR_2942.jpg', 'images/_DR_2948.jpg', 'images/_DR_2950.jpg', 'images/_DR_2952.jpg', 'images/_DR_2958.jpg', 'images/_DR_2963.jpg', 'images/_DR_2967.jpg', 'images/_DR_2969.jpg', 'images/_DR_2972.jpg', 'images/_DR_2977.jpg', 'images/_DR_2978.jpg', 'images/_DR_2986.jpg', 'images/_DR_2989.jpg', 'images/_DR_2990.jpg', 'images/_DR_2992.jpg', 'images/_DR_2994.jpg', 'images/_DR_2996.jpg', 'images/_DR_2999.jpg', 'images/_DR_3000.jpg', 'images/_DR_3001.jpg', 'images/_DR_3002.jpg', 'images/_DR_3010.jpg', 'images/_DR_3016.jpg', 'images/_DR_3018.jpg', 'images/_DR_3021.jpg', 'images/_DR_3024.jpg', 'images/_DR_3030.jpg', 'images/_DR_3035.jpg', 'images/_DR_3037.jpg', 'images/_DR_3040.jpg', 'images/_DR_3044.jpg', 'images/_DR_3047.jpg', 'images/_DR_3053.jpg', 'images/_DR_3054.jpg', 'images/_DR_3055.jpg', 'images/_DR_3057.jpg', 'images/_DR_3059.jpg', 'images/_DR_3063.jpg', 'images/_DR_3068.jpg', 'images/_DR_3070.jpg', 'images/_DR_3072.jpg', 'images/_DR_3073.jpg', 'images/_DR_3208.jpg', 'images/_DR_3213.jpg', 'images/_DR_3216.jpg', 'images/_DR_3217.jpg', 'images/_DR_3219.jpg', 'images/_DR_3224.jpg', 'images/_DR_3229.jpg', 'images/_DR_3239.jpg', 'images/_DR_3245.jpg', 'images/_DR_3248.jpg', 'images/_DR_3249.jpg', 'images/_DR_3255.jpg', 'images/_DR_3256.jpg', 'images/_DR_3259.jpg', 'images/_DR_3261.jpg', 'images/_DR_3263.jpg', 'images/_DR_3270.jpg', 'images/_DR_3271.jpg', 'images/_DR_3277.jpg', 'images/_DR_8413.jpg', 'images/_DR_8414.jpg', 'images/_DR_8418.jpg', 'images/_DR_8420.jpg', 'images/_DR_8424.jpg', 'images/_DR_8426.jpg', 'images/_DR_8432.jpg', 'images/_DR_8435.jpg', 'images/_DR_8438.jpg', 'images/_DR_8439.jpg', 'images/_DR_8441.jpg', 'images/_DR_8442.jpg', 'images/_DR_8444.jpg', 'images/_DR_8446.jpg', 'images/_DR_8447.jpg', 'images/_DR_8449.jpg', 'images/_DR_8455.jpg', 'images/_DR_8463.jpg', 'images/_DR_8466.jpg', 'images/_DR_8468.jpg', 'images/_DR_8472.jpg', 'images/_DR_8476.jpg', 'images/_DR_8480.jpg', 'images/_DR_8484.jpg', 'images/_DR_8485.jpg', 'images/_DR_8491.jpg', 'images/_DR_8493.jpg', 'images/_DR_8497.jpg', 'images/_DR_8502.jpg', 'images/_DR_8503.jpg', 'images/_DR_8504.jpg', 'images/_DR_8507.jpg', 'images/_DR_8509.jpg', 'images/_DR_8514.jpg', 'images/_DR_8515.jpg', 'images/_DR_8516.jpg', 'images/_DR_8517.jpg', 'images/_DR_8521.jpg', 'images/_DR_8531.jpg', 'images/_DR_8535.jpg', 'images/_DR_8546.jpg', 'images/_DR_8549.jpg', 'images/_DR_8550.jpg', 'images/_DR_8552.jpg', 'images/_DR_8554.jpg', 'images/_DR_8555.jpg', 'images/_DR_8559.jpg', 'images/_DR_8560.jpg', 'images/_DR_8564.jpg', 'images/_DR_8570.jpg', 'images/_DR_8579.jpg', 'images/_DR_8580.jpg', 'images/_DR_8583.jpg', 'images/_DR_8586.jpg', 'images/_DR_8593.jpg', 'images/_DR_8599.jpg', 'images/_DR_8600.jpg', 'images/_DR_8601.jpg', 'images/_DR_8603.jpg', 'images/_DR_8604.jpg', 'images/_DR_8605.jpg', 'images/_DR_8609.jpg', 'images/_DR_8611.jpg', 'images/_DR_8614.jpg', 'images/_DR_8616.jpg', 'images/_DR_8617.jpg', 'images/_DR_8619.jpg', 'images/_DR_8632.jpg', 'images/_DR_8639.jpg', 'images/_DR_8644.jpg', 'images/_DR_8648.jpg', 'images/_DR_8653.jpg', 'images/_DR_8661.jpg', 'images/_DR_8667.jpg', 'images/_DR_8668.jpg', 'images/_DR_8673.jpg', 'images/_DR_8676.jpg', 'images/_DR_8678.jpg', 'images/_DR_8681.jpg', 'images/_DR_8685.jpg', 'images/_DR_8689.jpg', 'images/_DR_8690.jpg', 'images/_DR_8691.jpg', 'images/_DR_8693.jpg', 'images/_DR_8696.jpg', 'images/_DR_8699.jpg', 'images/_DR_8703.jpg']\n"
     ]
    }
   ],
   "source": [
    "files = list()\n",
    "\n",
    "for file in glob.glob(\"images/*.jpg\"):\n",
    "    files.append(file)\n",
    "    \n",
    "print(files)"
   ]
  },
  {
   "cell_type": "markdown",
   "metadata": {},
   "source": [
    "## Generando el fichero _MP4_ con _OpenCV_\n",
    "\n",
    "Utilizamos el objeto _VideoWriter_ de _OpenCV_ para generar el fichero _MP4_. Observese que se usa el formato fourcc '3IVD' que corresponde a un codec _MPEG-4_."
   ]
  },
  {
   "cell_type": "code",
   "execution_count": 6,
   "metadata": {},
   "outputs": [
    {
     "name": "stdout",
     "output_type": "stream",
     "text": [
      "3360 5040 3\n"
     ]
    }
   ],
   "source": [
    "img = cv.imread(files[0])\n",
    "h, w, layers = img.shape\n",
    "print(h, w, layers)\n",
    "\n",
    "out = cv.VideoWriter('videos/images_comp.mp4',cv.VideoWriter_fourcc(*'3IVD'), 1, (w,h))\n",
    " \n",
    "for file in files:\n",
    "    img = cv.imread(file)\n",
    "    out.write(img)\n",
    "out.release()"
   ]
  },
  {
   "cell_type": "code",
   "execution_count": 9,
   "metadata": {},
   "outputs": [
    {
     "name": "stdout",
     "output_type": "stream",
     "text": [
      "d1 = 25.07.2019\n"
     ]
    }
   ],
   "source": [
    "from datetime import date\n",
    "\n",
    "today = date.today()\n",
    "d1 = today.strftime(\"%d.%m.%Y\")\n",
    "print(\"d1 =\", d1)"
   ]
  }
 ],
 "metadata": {
  "kernelspec": {
   "display_name": "Python 3",
   "language": "python",
   "name": "python3"
  },
  "language_info": {
   "codemirror_mode": {
    "name": "ipython",
    "version": 3
   },
   "file_extension": ".py",
   "mimetype": "text/x-python",
   "name": "python",
   "nbconvert_exporter": "python",
   "pygments_lexer": "ipython3",
   "version": "3.7.3"
  }
 },
 "nbformat": 4,
 "nbformat_minor": 2
}
